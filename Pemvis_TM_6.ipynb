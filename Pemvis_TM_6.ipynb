{
  "nbformat": 4,
  "nbformat_minor": 0,
  "metadata": {
    "colab": {
      "provenance": [],
      "authorship_tag": "ABX9TyNcazJVW7R5LhKAovpCTFGe",
      "include_colab_link": true
    },
    "kernelspec": {
      "name": "python3",
      "display_name": "Python 3"
    },
    "language_info": {
      "name": "python"
    }
  },
  "cells": [
    {
      "cell_type": "markdown",
      "metadata": {
        "id": "view-in-github",
        "colab_type": "text"
      },
      "source": [
        "<a href=\"https://colab.research.google.com/github/DJunichiR/Pemrograman-Visual/blob/main/Pemvis_TM_6.ipynb\" target=\"_parent\"><img src=\"https://colab.research.google.com/assets/colab-badge.svg\" alt=\"Open In Colab\"/></a>"
      ]
    },
    {
      "cell_type": "code",
      "source": [
        "es_buah = set()\n",
        "\n",
        "print(\"MEMBUAT ES BUAH\")\n",
        "\n",
        "buah_1 = input(\"Masukkan nama buah pertama: \")\n",
        "buah_2 = input(\"Masukkan nama buah kedua: \")\n",
        "buah_3 = input(\"Masukkan nama buah ketiga: \")\n",
        "\n",
        "es_buah.add(buah_1)\n",
        "es_buah.add(buah_2)\n",
        "es_buah.add(buah_3)\n",
        "\n",
        "print(\"Buah-buahan telah ditambahkan ke dalam es buah.\")\n",
        "\n",
        "print(\"Isi dari Es Buah:\")\n",
        "for buah in es_buah:\n",
        "    print(\"-\", buah)\n",
        "\n",
        "print(\"Jumlah buah dalam es buah:\", len(es_buah))\n",
        "\n",
        "hapus_buah = input(\"Masukkan nama buah yang ingin dikeluarkan: \")\n",
        "if hapus_buah in es_buah:\n",
        "    es_buah.remove(hapus_buah)\n",
        "    print(f\"{hapus_buah} telah dikeluarkan dari es buah.\")\n",
        "else:\n",
        "    print(f\"{hapus_buah} tidak ada dalam es buah.\")\n",
        "\n",
        "print(\"Isi dari Es Buah:\")\n",
        "for buah in es_buah:\n",
        "    print(\"-\", buah)\n",
        "\n",
        "    # 1. ada 2 input (masukkan nilai) a dan b\n",
        "a = float(input(\"Masukkan nilai a: \"))\n",
        "b = float(input(\"Masukkan nilai b: \"))\n",
        "\n",
        "# 2. output berupa print\n",
        "print(\"Nilai a: \", a)\n",
        "print(\"Nilai b: \", b)\n",
        "\n",
        "# 3. cek dengan boolean apakah a lebih besar dari b?\n",
        "a_lebih_b = a > b\n",
        "print(\"a lebih besar dari b:\", a_lebih_b)\n",
        "\n",
        "# 4. cek dengan boolean apakah b lebih besar dari a?\n",
        "b_lebih_a = b > a\n",
        "print(\"b lebih besar dari a:\", b_lebih_a)\n",
        "\n",
        "# 5. cek dengan boolean apakah a sama dengan b?\n",
        "a_sama_b = a == b\n",
        "print(\"a sama dengan b:\", a_sama_b)\n",
        "\n",
        "# 6. hitung ppn a sebesar 12%, jika lebih dari 10000\n",
        "ppn_a = a * 0.12 if a > 10000 else 0\n",
        "print(\"PPN a:\", ppn_a)\n",
        "\n",
        "# 7. hitung ppn b sebesar 12%, jika lebih dari 50000\n",
        "ppn_b = b * 0.12 if b > 50000 else 0\n",
        "print(\"PPN b:\", ppn_b)\n",
        "\n",
        "# 8. tambahkan keduai ppn a dan b, cek dengan boolean\n",
        "total_ppn = ppn_a + ppn_b\n",
        "print(\"Total PPN:\", total_ppn)\n",
        "\n",
        "# 9. hapus a dan b, cek dengan boolean\n",
        "hapus = input(\"Hapus a/b: \")\n",
        "if hapus.lower() == \"a\":\n",
        "    a = 0\n",
        "elif hapus.lower() == \"b\":\n",
        "    b = 0\n",
        "else:\n",
        "    print(\"Inputan tidak valid\")\n",
        "\n",
        "print(\"Nilai a:\", bool(a))\n",
        "print(\"Nilai b:\", bool(b))"
      ],
      "metadata": {
        "id": "Aq_f43R_zaxW",
        "colab": {
          "base_uri": "https://localhost:8080/"
        },
        "outputId": "3c19d5aa-9d72-49ec-8fa4-f7335f3593ab"
      },
      "execution_count": null,
      "outputs": [
        {
          "output_type": "stream",
          "name": "stdout",
          "text": [
            "MEMBUAT ES BUAH\n",
            "Masukkan nama buah pertama: apel\n",
            "Masukkan nama buah kedua: mangga\n",
            "Masukkan nama buah ketiga: durian\n",
            "Buah-buahan telah ditambahkan ke dalam es buah.\n",
            "Isi dari Es Buah:\n",
            "- durian\n",
            "- mangga\n",
            "- apel\n",
            "Jumlah buah dalam es buah: 3\n",
            "Masukkan nama buah yang ingin dikeluarkan: 2\n",
            "2 tidak ada dalam es buah.\n",
            "Isi dari Es Buah:\n",
            "- durian\n",
            "- mangga\n",
            "- apel\n",
            "Masukkan nilai a: 1\n",
            "Masukkan nilai b: 2\n",
            "Nilai a:  1.0\n",
            "Nilai b:  2.0\n",
            "a lebih besar dari b: False\n",
            "b lebih besar dari a: True\n",
            "a sama dengan b: False\n",
            "PPN a: 0\n",
            "PPN b: 0\n",
            "Total PPN: 0\n",
            "Hapus a/b: b\n",
            "Nilai a: True\n",
            "Nilai b: False\n"
          ]
        }
      ]
    },
    {
      "cell_type": "code",
      "execution_count": null,
      "metadata": {
        "colab": {
          "base_uri": "https://localhost:8080/",
          "height": 345
        },
        "id": "-XMXuyjjyY7M",
        "outputId": "f5d6b3da-0363-4c27-9d31-526b5fab0aef"
      },
      "outputs": [
        {
          "output_type": "display_data",
          "data": {
            "text/plain": [
              "<Figure size 640x480 with 1 Axes>"
            ],
            "image/png": "[encoded data removed]"
          },
          "metadata": {}
        }
      ],
      "source": [
        "import numpy as np\n",
        "import matplotlib.pyplot as plt\n",
        "\n",
        "rowmax = int(1079)\n",
        "colmax = int(1919)\n",
        "\n",
        "radius_max = int(1000)\n",
        "batas1 = int(0.2*radius_max)\n",
        "batas2 = int(0.4*radius_max)\n",
        "batas3 = int(0.6*radius_max)\n",
        "batas4 = int(0.8*radius_max)\n",
        "\n",
        "gambar = np.zeros(shape=(rowmax+1, colmax+1, 3), dtype=np.int16)\n",
        "for i in range(0, rowmax+1):\n",
        "    for j in range(0, colmax+1):\n",
        "        if (i**2+j**2) >= 0 and (i**2+j**2) < batas1**2:\n",
        "            gambar[i, j, 0] = 255\n",
        "        if (i**2+j**2) >= batas1**2 and (i**2+j**2) < batas2**2:\n",
        "            gambar[i, j, 1] = 255\n",
        "        if (i**2+j**2) >= batas2**2 and (i**2+j**2) < batas3**2:\n",
        "            gambar[i, j, 2] = 255\n",
        "        if (i**2+j**2) >= batas3**2 and (i**2+j**2) < batas4**2:\n",
        "            gambar[i, j, 0] = 255\n",
        "            gambar[i, j, 1] = 255\n",
        "        if (i**2+j**2) >= batas4**2 and (i**2+j**2) < radius_max**2:\n",
        "            gambar[i, j, 0] = 255\n",
        "            gambar[i, j, 2] = 255\n",
        "\n",
        "plt.figure()\n",
        "plt.imshow(gambar)\n",
        "plt.show()\n"
      ]
    },
    {
      "cell_type": "code",
      "source": [
        "import numpy as np\n",
        "import matplotlib.pyplot as plt\n",
        "\n",
        "rowmax = int(1079)\n",
        "colmax = int(1919)\n",
        "\n",
        "radius_max = int(1000)\n",
        "batas1 = int(0.4 * radius_max)\n",
        "batas2 = int(0.8 * radius_max)\n",
        "batas3 = int(1.2 * radius_max)\n",
        "batas4 = int(1.6 * radius_max)\n",
        "batas5 = int(2 * radius_max)\n",
        "batas6 = int(2.4 * radius_max)\n",
        "\n",
        "gambar = np.zeros(shape=(rowmax + 1, colmax + 1, 3), dtype=np.int16)\n",
        "for i in range(0, rowmax + 1):\n",
        "    for j in range(0, colmax + 1):\n",
        "        if (i ** 2 + j ** 2) >= 0 and (i ** 2 + j ** 2) < batas1 ** 2:\n",
        "            gambar[i, j] = [255, 255, 255]\n",
        "        elif (i ** 2 + j ** 2) >= batas1 ** 2 or (i ** 2 + j ** 2) < batas2 ** 2:\n",
        "            gambar[i, j] = [0, 0, 0]\n",
        "        elif (i ** 2 + j ** 2) >= batas2 ** 2 and (i ** 2 + j ** 2) < batas3 ** 2:\n",
        "            gambar[i, j] = [255, 255, 255]\n",
        "        elif (i ** 2 + j ** 2) >= batas3 ** 2 and (i ** 2 + j ** 2) < batas4 ** 2:\n",
        "            gambar[i, j] = [0, 0, 0]\n",
        "        elif (i ** 2 + j ** 2) >= batas4 ** 2 and (i ** 2 + j ** 2) < batas5 ** 2:\n",
        "            gambar[i, j] = [255, 255, 255]\n",
        "        elif (i ** 2 + j ** 2) >= batas5 ** 2 and (i ** 2 + j ** 2) < batas6 ** 2:\n",
        "            gambar[i, j] = [0, 0, 0]\n",
        "        elif (i ** 2 + j ** 2) >= batas6 ** 2 and (i ** 2 + j ** 2) < radius_max ** 2:\n",
        "            gambar[i, j] = [255, 255, 255]\n",
        "\n",
        "plt.figure()\n",
        "plt.imshow(gambar)\n",
        "plt.show()\n"
      ],
      "metadata": {
        "colab": {
          "base_uri": "https://localhost:8080/",
          "height": 345
        },
        "id": "e0x5QNRyy7_W",
        "outputId": "ddfa6152-854f-46bb-af4a-33e7a4159108"
      },
      "execution_count": null,
      "outputs": [
        {
          "output_type": "display_data",
          "data": {
            "text/plain": [
              "<Figure size 640x480 with 1 Axes>"
            ],
            "image/png": "[encoded data removed]"
          },
          "metadata": {}
        }
      ]
    },
    {
      "cell_type": "code",
      "source": [
        "import numpy as np\n",
        "import matplotlib.pyplot as plt\n",
        "\n",
        "rowmax = int(1079)\n",
        "colmax = int(1919)\n",
        "\n",
        "radius_max = int(1000)\n",
        "batas1 = int(0.4 * radius_max)\n",
        "batas2 = int(0.5 * radius_max)\n",
        "# batas3 = int(1.2 * radius_max)\n",
        "# batas4 = int(1.6 * radius_max)\n",
        "# batas5 = int(2 * radius_max)\n",
        "# batas6 = int(2.4 * radius_max)\n",
        "\n",
        "gambar = np.zeros(shape=(rowmax + 1, colmax + 1, 3), dtype=np.int16)\n",
        "for i in range(0, rowmax + 1):\n",
        "    for j in range(0, colmax + 1):\n",
        "        if (i ** 2 + j ** 2) >= 0 and (i ** 2 + j ** 2) < batas1 ** 2:\n",
        "            gambar[i, j] = [255, 255, 0]\n",
        "        elif (i ** 2 + j ** 2) >= batas1 ** 2 and (i ** 2 + j ** 2) < batas2 ** 2:\n",
        "            gambar[i, j] = [255, 0, 0]\n",
        "        elif (i**2+j**2) >= batas2**2 or (i**2+j**2) < radius_max**2:\n",
        "            gambar[i, j] = [255, 255, 255]\n",
        "\n",
        "\n",
        "plt.figure()\n",
        "plt.imshow(gambar)\n",
        "plt.show()\n"
      ],
      "metadata": {
        "colab": {
          "base_uri": "https://localhost:8080/",
          "height": 345
        },
        "id": "-vb980auy9K7",
        "outputId": "bde9fb0c-6998-4ce2-cb33-275988dc67db"
      },
      "execution_count": null,
      "outputs": [
        {
          "output_type": "display_data",
          "data": {
            "text/plain": [
              "<Figure size 640x480 with 1 Axes>"
            ],
            "image/png": "[encoded data removed]"
          },
          "metadata": {}
        }
      ]
    },
    {
      "cell_type": "code",
      "source": [],
      "metadata": {
        "id": "TeudR1nkzZXE"
      },
      "execution_count": null,
      "outputs": []
    }
  ]
}